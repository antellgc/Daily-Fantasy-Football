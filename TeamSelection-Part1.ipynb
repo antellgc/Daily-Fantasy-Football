{
 "cells": [
  {
   "cell_type": "markdown",
   "metadata": {},
   "source": [
    "# Team Selection Notebook\n",
    "\n",
    "* Part 1 will import projections and salaries for a single week and choose the optimal team.\n",
    "* Part 2 will add \"noise\" to the projections to generate N different optimal rosters\n",
    "* Part 3 will use a genetic algorithm to evolve rosters until an optimal population has been selected"
   ]
  },
  {
   "cell_type": "markdown",
   "metadata": {
    "collapsed": true
   },
   "source": [
    "# Import Requirements"
   ]
  },
  {
   "cell_type": "code",
   "execution_count": 160,
   "metadata": {},
   "outputs": [],
   "source": [
    "import pandas as pd\n",
    "from collections import Counter\n",
    "\n",
    "from pulp import *\n",
    "\n",
    "from IPython.display import display, HTML\n",
    "import matplotlib.pyplot as plt\n",
    "%matplotlib inline"
   ]
  },
  {
   "cell_type": "markdown",
   "metadata": {},
   "source": [
    "# Read in data for 2017 Week 5"
   ]
  },
  {
   "cell_type": "code",
   "execution_count": 105,
   "metadata": {},
   "outputs": [
    {
     "name": "stdout",
     "output_type": "stream",
     "text": [
      "QB (74, 11)\n",
      "RB (128, 11)\n",
      "WR (164, 11)\n",
      "TE (87, 11)\n",
      "DST (28, 11)\n"
     ]
    }
   ],
   "source": [
    "qb_df = pd.read_csv('./fantasydata/Season2017/QB_2017_week5.csv')\n",
    "rb_df = pd.read_csv('./fantasydata/Season2017/RB_2017_week5.csv')\n",
    "wr_df = pd.read_csv('./fantasydata/Season2017/WR_2017_week5.csv')\n",
    "te_df = pd.read_csv('./fantasydata/Season2017/TE_2017_week5.csv')\n",
    "dst_df = pd.read_csv('./fantasydata/Season2017/DST_2017_week5.csv')\n",
    "\n",
    "print 'QB', qb_df.shape\n",
    "print 'RB', rb_df.shape\n",
    "print 'WR', wr_df.shape\n",
    "print 'TE', te_df.shape\n",
    "print 'DST', dst_df.shape"
   ]
  },
  {
   "cell_type": "markdown",
   "metadata": {},
   "source": [
    "# Vertically merge all data"
   ]
  },
  {
   "cell_type": "code",
   "execution_count": 97,
   "metadata": {},
   "outputs": [
    {
     "name": "stdout",
     "output_type": "stream",
     "text": [
      "(481, 11)\n",
      "Counter({'WR': 164, 'RB': 128, 'TE': 87, 'QB': 74, 'DST': 28})\n"
     ]
    },
    {
     "data": {
      "text/html": [
       "<div>\n",
       "<table border=\"1\" class=\"dataframe\">\n",
       "  <thead>\n",
       "    <tr style=\"text-align: right;\">\n",
       "      <th></th>\n",
       "      <th>Rk</th>\n",
       "      <th>ID</th>\n",
       "      <th>Player</th>\n",
       "      <th>Pos</th>\n",
       "      <th>Week</th>\n",
       "      <th>Team</th>\n",
       "      <th>Opp</th>\n",
       "      <th>Opp Rank</th>\n",
       "      <th>Opp Pos Rank</th>\n",
       "      <th>Salary</th>\n",
       "      <th>Projection</th>\n",
       "    </tr>\n",
       "  </thead>\n",
       "  <tbody>\n",
       "    <tr>\n",
       "      <th>0</th>\n",
       "      <td>1</td>\n",
       "      <td>4314</td>\n",
       "      <td>Tom Brady</td>\n",
       "      <td>QB</td>\n",
       "      <td>5</td>\n",
       "      <td>NE</td>\n",
       "      <td>TB</td>\n",
       "      <td>29</td>\n",
       "      <td>30</td>\n",
       "      <td>8000</td>\n",
       "      <td>25.0</td>\n",
       "    </tr>\n",
       "    <tr>\n",
       "      <th>1</th>\n",
       "      <td>2</td>\n",
       "      <td>2593</td>\n",
       "      <td>Aaron Rodgers</td>\n",
       "      <td>QB</td>\n",
       "      <td>5</td>\n",
       "      <td>GB</td>\n",
       "      <td>DAL</td>\n",
       "      <td>26</td>\n",
       "      <td>23</td>\n",
       "      <td>8100</td>\n",
       "      <td>21.1</td>\n",
       "    </tr>\n",
       "    <tr>\n",
       "      <th>2</th>\n",
       "      <td>3</td>\n",
       "      <td>16762</td>\n",
       "      <td>Jameis Winston</td>\n",
       "      <td>QB</td>\n",
       "      <td>5</td>\n",
       "      <td>TB</td>\n",
       "      <td>NE</td>\n",
       "      <td>32</td>\n",
       "      <td>32</td>\n",
       "      <td>6000</td>\n",
       "      <td>20.4</td>\n",
       "    </tr>\n",
       "    <tr>\n",
       "      <th>3</th>\n",
       "      <td>4</td>\n",
       "      <td>2428</td>\n",
       "      <td>Carson Palmer</td>\n",
       "      <td>QB</td>\n",
       "      <td>5</td>\n",
       "      <td>ARI</td>\n",
       "      <td>PHI</td>\n",
       "      <td>21</td>\n",
       "      <td>24</td>\n",
       "      <td>5900</td>\n",
       "      <td>19.4</td>\n",
       "    </tr>\n",
       "    <tr>\n",
       "      <th>4</th>\n",
       "      <td>5</td>\n",
       "      <td>18055</td>\n",
       "      <td>Dak Prescott</td>\n",
       "      <td>QB</td>\n",
       "      <td>5</td>\n",
       "      <td>DAL</td>\n",
       "      <td>GB</td>\n",
       "      <td>6</td>\n",
       "      <td>6</td>\n",
       "      <td>6800</td>\n",
       "      <td>18.8</td>\n",
       "    </tr>\n",
       "  </tbody>\n",
       "</table>\n",
       "</div>"
      ],
      "text/plain": [
       "   Rk     ID          Player Pos  Week Team  Opp Opp Rank Opp Pos Rank  \\\n",
       "0   1   4314       Tom Brady  QB     5   NE   TB       29           30   \n",
       "1   2   2593   Aaron Rodgers  QB     5   GB  DAL       26           23   \n",
       "2   3  16762  Jameis Winston  QB     5   TB   NE       32           32   \n",
       "3   4   2428   Carson Palmer  QB     5  ARI  PHI       21           24   \n",
       "4   5  18055    Dak Prescott  QB     5  DAL   GB        6            6   \n",
       "\n",
       "   Salary  Projection  \n",
       "0    8000        25.0  \n",
       "1    8100        21.1  \n",
       "2    6000        20.4  \n",
       "3    5900        19.4  \n",
       "4    6800        18.8  "
      ]
     },
     "execution_count": 97,
     "metadata": {},
     "output_type": "execute_result"
    }
   ],
   "source": [
    "week5_df = pd.concat([qb_df, rb_df, wr_df, te_df, dst_df], axis=0)\n",
    "\n",
    "week5_df['Pos'] = week5_df['Pos'].str.replace('FB','RB')\n",
    "print week5_df.shape\n",
    "print Counter(week5_df['Pos'])\n",
    "week5_df = week5_df.reset_index(drop=True)\n",
    "week5_df.head()"
   ]
  },
  {
   "cell_type": "markdown",
   "metadata": {},
   "source": [
    "# ILP Data Wrangling"
   ]
  },
  {
   "cell_type": "code",
   "execution_count": 106,
   "metadata": {},
   "outputs": [
    {
     "data": {
      "text/plain": [
       "WR     164\n",
       "RB     128\n",
       "TE      87\n",
       "QB      74\n",
       "DST     28\n",
       "Name: Pos, dtype: int64"
      ]
     },
     "metadata": {},
     "output_type": "display_data"
    },
    {
     "data": {
      "text/html": [
       "<div>\n",
       "<table border=\"1\" class=\"dataframe\">\n",
       "  <thead>\n",
       "    <tr style=\"text-align: right;\">\n",
       "      <th></th>\n",
       "      <th>Rk</th>\n",
       "      <th>ID</th>\n",
       "      <th>Player</th>\n",
       "      <th>Pos</th>\n",
       "      <th>Week</th>\n",
       "      <th>Team</th>\n",
       "      <th>Opp</th>\n",
       "      <th>Opp Rank</th>\n",
       "      <th>Opp Pos Rank</th>\n",
       "      <th>Salary</th>\n",
       "      <th>Projection</th>\n",
       "      <th>PosID</th>\n",
       "    </tr>\n",
       "  </thead>\n",
       "  <tbody>\n",
       "    <tr>\n",
       "      <th>205</th>\n",
       "      <td>4</td>\n",
       "      <td>16389</td>\n",
       "      <td>Odell Beckham Jr</td>\n",
       "      <td>WR</td>\n",
       "      <td>5</td>\n",
       "      <td>NYG</td>\n",
       "      <td>LAC</td>\n",
       "      <td>25</td>\n",
       "      <td>21</td>\n",
       "      <td>8500</td>\n",
       "      <td>18.0</td>\n",
       "      <td>WR001</td>\n",
       "    </tr>\n",
       "    <tr>\n",
       "      <th>202</th>\n",
       "      <td>1</td>\n",
       "      <td>11056</td>\n",
       "      <td>Antonio Brown</td>\n",
       "      <td>WR</td>\n",
       "      <td>5</td>\n",
       "      <td>PIT</td>\n",
       "      <td>JAX</td>\n",
       "      <td>4</td>\n",
       "      <td>1</td>\n",
       "      <td>8400</td>\n",
       "      <td>18.6</td>\n",
       "      <td>WR002</td>\n",
       "    </tr>\n",
       "    <tr>\n",
       "      <th>206</th>\n",
       "      <td>5</td>\n",
       "      <td>12845</td>\n",
       "      <td>AJ Green</td>\n",
       "      <td>WR</td>\n",
       "      <td>5</td>\n",
       "      <td>CIN</td>\n",
       "      <td>BUF</td>\n",
       "      <td>2</td>\n",
       "      <td>6</td>\n",
       "      <td>8200</td>\n",
       "      <td>16.8</td>\n",
       "      <td>WR003</td>\n",
       "    </tr>\n",
       "    <tr>\n",
       "      <th>204</th>\n",
       "      <td>3</td>\n",
       "      <td>4556</td>\n",
       "      <td>Jordy Nelson</td>\n",
       "      <td>WR</td>\n",
       "      <td>5</td>\n",
       "      <td>GB</td>\n",
       "      <td>DAL</td>\n",
       "      <td>26</td>\n",
       "      <td>22</td>\n",
       "      <td>8100</td>\n",
       "      <td>18.2</td>\n",
       "      <td>WR004</td>\n",
       "    </tr>\n",
       "    <tr>\n",
       "      <th>203</th>\n",
       "      <td>2</td>\n",
       "      <td>16597</td>\n",
       "      <td>Mike Evans</td>\n",
       "      <td>WR</td>\n",
       "      <td>5</td>\n",
       "      <td>TB</td>\n",
       "      <td>NE</td>\n",
       "      <td>32</td>\n",
       "      <td>29</td>\n",
       "      <td>7900</td>\n",
       "      <td>18.5</td>\n",
       "      <td>WR005</td>\n",
       "    </tr>\n",
       "  </tbody>\n",
       "</table>\n",
       "</div>"
      ],
      "text/plain": [
       "     Rk     ID            Player Pos  Week Team  Opp Opp Rank Opp Pos Rank  \\\n",
       "205   4  16389  Odell Beckham Jr  WR     5  NYG  LAC       25           21   \n",
       "202   1  11056     Antonio Brown  WR     5  PIT  JAX        4            1   \n",
       "206   5  12845          AJ Green  WR     5  CIN  BUF        2            6   \n",
       "204   3   4556      Jordy Nelson  WR     5   GB  DAL       26           22   \n",
       "203   2  16597        Mike Evans  WR     5   TB   NE       32           29   \n",
       "\n",
       "     Salary  Projection  PosID  \n",
       "205    8500        18.0  WR001  \n",
       "202    8400        18.6  WR002  \n",
       "206    8200        16.8  WR003  \n",
       "204    8100        18.2  WR004  \n",
       "203    7900        18.5  WR005  "
      ]
     },
     "metadata": {},
     "output_type": "display_data"
    }
   ],
   "source": [
    "week5_df['PosID'] = week5_df.sort_values(['Pos','Salary'], ascending=False) \\\n",
    "                            .groupby(['Pos']) \\\n",
    "                            .cumcount() + 1\n",
    "        \n",
    "week5_df['PosID'] = week5_df['PosID'].apply(lambda x: '{0:0>3}'.format(x))\n",
    "week5_df['PosID'] = week5_df['Pos'].map(str) + week5_df['PosID'].map(str)\n",
    "\n",
    "display(week5_df['Pos'].value_counts())\n",
    "display(week5_df.sort_values([\"Pos\",\"Salary\"], ascending=[False,False]).head(5)) "
   ]
  },
  {
   "cell_type": "code",
   "execution_count": 108,
   "metadata": {
    "collapsed": true
   },
   "outputs": [],
   "source": [
    "# Create variables for all players\n",
    "QB_ID  = week5_df[week5_df['PosID'].str.contains('QB')]['PosID'].values.tolist()\n",
    "TE_ID  = week5_df[week5_df['PosID'].str.contains('TE')]['PosID'].values.tolist()\n",
    "RB_ID  = week5_df[week5_df['PosID'].str.contains('RB')]['PosID'].values.tolist()\n",
    "WR_ID  = week5_df[week5_df['PosID'].str.contains('WR')]['PosID'].values.tolist()\n",
    "DST_ID  = week5_df[week5_df['PosID'].str.contains('DST')]['PosID'].values.tolist()\n",
    "POS_ID = QB_ID+TE_ID+RB_ID+WR_ID+DST_ID"
   ]
  },
  {
   "cell_type": "code",
   "execution_count": 125,
   "metadata": {},
   "outputs": [],
   "source": [
    "x = LpVariable.dicts(\"%s\", POS_ID, 0, 1, LpInteger)\n",
    "points  = pd.Series(week5_df['Projection'].values,index=week5_df['PosID']).to_dict()\n",
    "salary  = pd.Series(week5_df['Salary'].values,index=week5_df['PosID']).to_dict()"
   ]
  },
  {
   "cell_type": "markdown",
   "metadata": {},
   "source": [
    "# ILP Solver"
   ]
  },
  {
   "cell_type": "code",
   "execution_count": 136,
   "metadata": {},
   "outputs": [
    {
     "name": "stdout",
     "output_type": "stream",
     "text": [
      "Solution Status: Optimal\n"
     ]
    }
   ],
   "source": [
    "dk_solve = LpProblem(\"ILP\", LpMaximize) \n",
    " \n",
    "# ****************************************************************\n",
    "# Objective \n",
    "# ****************************************************************\n",
    "dk_solve += sum( [points[i]*x[i] for i in sorted(POS_ID)] )\n",
    "\n",
    "# ****************************************************************\n",
    "# Constraints \n",
    "# ****************************************************************\n",
    "\n",
    "# Salary Cap at $50k\n",
    "dk_solve += sum( [salary[i]*x[i] for i in sorted(POS_ID)] ) <= 50000\n",
    "\n",
    "# Only 1 Quaterback\n",
    "dk_solve += sum([x[i] for i in sorted(QB_ID)])  == 1\n",
    "\n",
    "# Between 1 and 2 Tight Ends\n",
    "dk_solve += sum([x[i] for i in sorted(TE_ID)])  <= 2\n",
    "dk_solve += sum([x[i] for i in sorted(TE_ID)])  >= 1\n",
    "\n",
    "# Between 3 and 4 Wide Receivers\n",
    "dk_solve += sum([x[i] for i in sorted(WR_ID)])  <= 4\n",
    "dk_solve += sum([x[i] for i in sorted(WR_ID)])  >= 3\n",
    "\n",
    "# Between 2 and 3 Running Backs\n",
    "dk_solve += sum([x[i] for i in sorted(RB_ID)])  <= 3\n",
    "dk_solve += sum([x[i] for i in sorted(RB_ID)])  >= 2\n",
    "\n",
    "# Only 1 Defence / Special Teams\n",
    "dk_solve += sum([x[i] for i in sorted(DST_ID)]) == 1\n",
    "\n",
    "# Require 9 players\n",
    "dk_solve += sum([x[i] for i in sorted(POS_ID)]) == 9\n",
    "\n",
    "# ****************************************************************\n",
    "# Solve\n",
    "# ****************************************************************\n",
    "LpSolverDefault.msg = 1\n",
    "GLPK().solve(dk_solve)\n",
    "print(\"Solution Status: \" + LpStatus[dk_solve.status])"
   ]
  },
  {
   "cell_type": "code",
   "execution_count": 156,
   "metadata": {},
   "outputs": [
    {
     "data": {
      "text/html": [
       "<b>\n",
       "Summary</b>"
      ],
      "text/plain": [
       "<IPython.core.display.HTML object>"
      ]
     },
     "metadata": {},
     "output_type": "display_data"
    },
    {
     "name": "stdout",
     "output_type": "stream",
     "text": [
      "Projected Points = 134.80\n",
      "Total Salary = $50000\n"
     ]
    },
    {
     "data": {
      "text/html": [
       "<div>\n",
       "<table border=\"1\" class=\"dataframe\">\n",
       "  <thead>\n",
       "    <tr style=\"text-align: right;\">\n",
       "      <th></th>\n",
       "      <th>Player</th>\n",
       "      <th>Pos</th>\n",
       "      <th>Team</th>\n",
       "      <th>Salary</th>\n",
       "      <th>Projection</th>\n",
       "    </tr>\n",
       "  </thead>\n",
       "  <tbody>\n",
       "    <tr>\n",
       "      <th>0</th>\n",
       "      <td>Tom Brady</td>\n",
       "      <td>QB</td>\n",
       "      <td>NE</td>\n",
       "      <td>8000</td>\n",
       "      <td>25.0</td>\n",
       "    </tr>\n",
       "    <tr>\n",
       "      <th>1</th>\n",
       "      <td>Le'Veon Bell</td>\n",
       "      <td>RB</td>\n",
       "      <td>PIT</td>\n",
       "      <td>9500</td>\n",
       "      <td>22.3</td>\n",
       "    </tr>\n",
       "    <tr>\n",
       "      <th>2</th>\n",
       "      <td>Lamar Miller</td>\n",
       "      <td>RB</td>\n",
       "      <td>HOU</td>\n",
       "      <td>5000</td>\n",
       "      <td>13.7</td>\n",
       "    </tr>\n",
       "    <tr>\n",
       "      <th>3</th>\n",
       "      <td>Jonathan Stewart</td>\n",
       "      <td>RB</td>\n",
       "      <td>CAR</td>\n",
       "      <td>3900</td>\n",
       "      <td>11.0</td>\n",
       "    </tr>\n",
       "    <tr>\n",
       "      <th>4</th>\n",
       "      <td>Dez Bryant</td>\n",
       "      <td>WR</td>\n",
       "      <td>DAL</td>\n",
       "      <td>6500</td>\n",
       "      <td>15.5</td>\n",
       "    </tr>\n",
       "    <tr>\n",
       "      <th>5</th>\n",
       "      <td>Jarvis Landry</td>\n",
       "      <td>WR</td>\n",
       "      <td>MIA</td>\n",
       "      <td>5800</td>\n",
       "      <td>15.3</td>\n",
       "    </tr>\n",
       "    <tr>\n",
       "      <th>6</th>\n",
       "      <td>Chris Hogan</td>\n",
       "      <td>WR</td>\n",
       "      <td>NE</td>\n",
       "      <td>6100</td>\n",
       "      <td>14.8</td>\n",
       "    </tr>\n",
       "    <tr>\n",
       "      <th>7</th>\n",
       "      <td>Dwayne Allen</td>\n",
       "      <td>TE</td>\n",
       "      <td>NE</td>\n",
       "      <td>2500</td>\n",
       "      <td>8.6</td>\n",
       "    </tr>\n",
       "    <tr>\n",
       "      <th>8</th>\n",
       "      <td>Kansas City Chiefs</td>\n",
       "      <td>DST</td>\n",
       "      <td>KC</td>\n",
       "      <td>2700</td>\n",
       "      <td>8.6</td>\n",
       "    </tr>\n",
       "  </tbody>\n",
       "</table>\n",
       "</div>"
      ],
      "text/plain": [
       "               Player  Pos Team  Salary  Projection\n",
       "0           Tom Brady   QB   NE    8000        25.0\n",
       "1        Le'Veon Bell   RB  PIT    9500        22.3\n",
       "2        Lamar Miller   RB  HOU    5000        13.7\n",
       "3    Jonathan Stewart   RB  CAR    3900        11.0\n",
       "4          Dez Bryant   WR  DAL    6500        15.5\n",
       "5       Jarvis Landry   WR  MIA    5800        15.3\n",
       "6         Chris Hogan   WR   NE    6100        14.8\n",
       "7        Dwayne Allen   TE   NE    2500         8.6\n",
       "8  Kansas City Chiefs  DST   KC    2700         8.6"
      ]
     },
     "metadata": {},
     "output_type": "display_data"
    }
   ],
   "source": [
    "# Get Selected Player IDs \n",
    "PlayID = [v.name for v in dk_solve.variables() if v.varValue==1]\n",
    "roster_df = week5_df[week5_df['PosID'].isin(PlayID)]\n",
    "roster_df = roster_df.reset_index(drop=True)\n",
    "\n",
    "display(HTML(\"<b>\\nSummary</b>\"))\n",
    "print(\"Projected Points = %0.2f\"%(value(dk_solve.objective)))\n",
    "print(\"Total Salary = $%d\"%(sum(roster_df['Salary'])))\n",
    "\n",
    "display(roster_df[['Player','Pos','Team','Salary','Projection']])\n"
   ]
  },
  {
   "cell_type": "markdown",
   "metadata": {},
   "source": [
    "# Week 5 true values"
   ]
  },
  {
   "cell_type": "code",
   "execution_count": 159,
   "metadata": {
    "scrolled": true
   },
   "outputs": [
    {
     "name": "stdout",
     "output_type": "stream",
     "text": [
      "118.22\n"
     ]
    }
   ],
   "source": [
    "# Tom Brady = 17.62\n",
    "# Le'Veon Bell = 19.30\n",
    "# Lamar Miller = 10.90\n",
    "# Jonathan Stewart = 7.40\n",
    "# Dez Bryant = 16.20\n",
    "# Jarvis Landry = 15.40\n",
    "# Chris Hogan = 21.40\n",
    "# Dwayne Allen = 0.00\n",
    "# Kansas City Chiefs = 10.00\n",
    "\n",
    "true_score = 17.62 + 19.30 + 10.90 + 7.40 + 16.20 + 15.40 + 21.40 + 0.00 + 10.00\n",
    "print true_score"
   ]
  },
  {
   "cell_type": "markdown",
   "metadata": {},
   "source": [
    "# Add uncertainty to projection"
   ]
  },
  {
   "cell_type": "code",
   "execution_count": null,
   "metadata": {
    "collapsed": true
   },
   "outputs": [],
   "source": []
  }
 ],
 "metadata": {
  "kernelspec": {
   "display_name": "Python 2",
   "language": "python",
   "name": "python2"
  },
  "language_info": {
   "codemirror_mode": {
    "name": "ipython",
    "version": 2
   },
   "file_extension": ".py",
   "mimetype": "text/x-python",
   "name": "python",
   "nbconvert_exporter": "python",
   "pygments_lexer": "ipython2",
   "version": "2.7.12"
  }
 },
 "nbformat": 4,
 "nbformat_minor": 2
}
