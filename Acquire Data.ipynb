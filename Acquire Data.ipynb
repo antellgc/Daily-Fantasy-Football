{
 "cells": [
  {
   "cell_type": "markdown",
   "metadata": {},
   "source": [
    "# Import requirements"
   ]
  },
  {
   "cell_type": "code",
   "execution_count": 3,
   "metadata": {
    "collapsed": true
   },
   "outputs": [],
   "source": [
    "import pandas as pd\n",
    "from bs4 import BeautifulSoup\n",
    "import requests\n",
    "import matplotlib.pyplot as plt\n",
    "%matplotlib inline"
   ]
  },
  {
   "cell_type": "markdown",
   "metadata": {},
   "source": [
    "# Scrape historical data from footballdb.com (2010 - 2017)"
   ]
  },
  {
   "cell_type": "code",
   "execution_count": 4,
   "metadata": {
    "collapsed": true,
    "scrolled": true
   },
   "outputs": [],
   "source": [
    "def generate_url_string(position,year,week):\n",
    "    '''\n",
    "    generate url string, position = QB, RB, WR, TE or DST, year = int, week = int\n",
    "    '''\n",
    "    str1 = 'http://www.footballdb.com/fantasy-football/index.html?pos='\n",
    "    str2 = '&yr='\n",
    "    str3 = '&wk='\n",
    "    str4 = '&rules=2'\n",
    "    if position not in ['QB','RB','WR','TE','DST']:\n",
    "        return \"ERROR: position must be 'QB','RB','WR','TE', or'DST'\"\n",
    "    yr_str = str(year)\n",
    "    wk_str = str(week)\n",
    "    output_string = str1+position+str2+yr_str+str3+wk_str+str4\n",
    "    return output_string\n",
    "\n",
    "def get_year_week_df(url_string):\n",
    "    '''\n",
    "    return a dataframe of weekly stats for a given url\n",
    "    '''\n",
    "    page = requests.get(url_string)\n",
    "    soup = BeautifulSoup(page.content, 'html.parser')\n",
    "    table_headers = soup.find('tr', {'class': 'header right'}).get_text().split('\\n')\n",
    "    column_labels = [str(header).replace('*','') for header in table_headers if len(str(header))>0]\n",
    "    stats_table = soup.find('table', {'class': 'statistics'})\n",
    "    row_stats = stats_table.findAll('tr', {'class': ['row0','row1']})\n",
    "    total_data = []\n",
    "    if len(row_stats) > 1:\n",
    "        for row in row_stats:\n",
    "            player_team = str(row.find('span', {'class':'hidden-xs'}).get_text())\n",
    "            game_data = [td.text.replace(u'\\xa0',' ').encode('utf-8').strip() for td in row.find_all('td') if td.text]\n",
    "            data = [player_team] + game_data[1:]\n",
    "            total_data.append(data)\n",
    "        df = pd.DataFrame(total_data)\n",
    "        df.columns = column_labels\n",
    "        return df\n",
    "    else:\n",
    "        pass"
   ]
  },
  {
   "cell_type": "code",
   "execution_count": 3,
   "metadata": {
    "collapsed": true
   },
   "outputs": [],
   "source": [
    "for year in range(2010,2018,1):\n",
    "    for week in range(1,18,1):\n",
    "        for position in ['QB','RB','WR','TE','DST']:\n",
    "            #print (position, year, week)\n",
    "            url_string = generate_url_string(position, year, week)\n",
    "            df = get_year_week_df(url_string)\n",
    "            if df is None:\n",
    "                break\n",
    "            else:\n",
    "                csv_filename = './all_data/footballdb_data/'+position +'_'+str(year)+'_week'+str(week)+'.csv'\n",
    "                df.to_csv(csv_filename)"
   ]
  },
  {
   "cell_type": "code",
   "execution_count": 5,
   "metadata": {},
   "outputs": [
    {
     "data": {
      "text/html": [
       "<div>\n",
       "<table border=\"1\" class=\"dataframe\">\n",
       "  <thead>\n",
       "    <tr style=\"text-align: right;\">\n",
       "      <th></th>\n",
       "      <th>Player</th>\n",
       "      <th>Opp</th>\n",
       "      <th>Pts</th>\n",
       "      <th>Att</th>\n",
       "      <th>Cmp</th>\n",
       "      <th>Yds</th>\n",
       "      <th>TD</th>\n",
       "      <th>Int</th>\n",
       "      <th>2Pt</th>\n",
       "      <th>Att</th>\n",
       "      <th>Yds</th>\n",
       "      <th>TD</th>\n",
       "      <th>2Pt</th>\n",
       "      <th>Rec</th>\n",
       "      <th>Yds</th>\n",
       "      <th>TD</th>\n",
       "      <th>2Pt</th>\n",
       "      <th>FL</th>\n",
       "      <th>TD</th>\n",
       "    </tr>\n",
       "  </thead>\n",
       "  <tbody>\n",
       "    <tr>\n",
       "      <th>0</th>\n",
       "      <td>Tony Romo, Dal</td>\n",
       "      <td>Den</td>\n",
       "      <td>50.00</td>\n",
       "      <td>36</td>\n",
       "      <td>25</td>\n",
       "      <td>506</td>\n",
       "      <td>5</td>\n",
       "      <td>1</td>\n",
       "      <td>1</td>\n",
       "      <td>1</td>\n",
       "      <td>7</td>\n",
       "      <td>0</td>\n",
       "      <td>0</td>\n",
       "      <td>0</td>\n",
       "      <td>0</td>\n",
       "      <td>0</td>\n",
       "      <td>0</td>\n",
       "      <td>0</td>\n",
       "      <td>0</td>\n",
       "    </tr>\n",
       "    <tr>\n",
       "      <th>1</th>\n",
       "      <td>Peyton Manning, Den</td>\n",
       "      <td>@Dal</td>\n",
       "      <td>44.00</td>\n",
       "      <td>42</td>\n",
       "      <td>33</td>\n",
       "      <td>414</td>\n",
       "      <td>4</td>\n",
       "      <td>1</td>\n",
       "      <td>0</td>\n",
       "      <td>4</td>\n",
       "      <td>-8</td>\n",
       "      <td>1</td>\n",
       "      <td>0</td>\n",
       "      <td>0</td>\n",
       "      <td>0</td>\n",
       "      <td>0</td>\n",
       "      <td>0</td>\n",
       "      <td>0</td>\n",
       "      <td>0</td>\n",
       "    </tr>\n",
       "    <tr>\n",
       "      <th>2</th>\n",
       "      <td>Russell Wilson, Sea</td>\n",
       "      <td>@Ind</td>\n",
       "      <td>27.00</td>\n",
       "      <td>31</td>\n",
       "      <td>15</td>\n",
       "      <td>210</td>\n",
       "      <td>2</td>\n",
       "      <td>1</td>\n",
       "      <td>0</td>\n",
       "      <td>13</td>\n",
       "      <td>102</td>\n",
       "      <td>0</td>\n",
       "      <td>0</td>\n",
       "      <td>0</td>\n",
       "      <td>0</td>\n",
       "      <td>0</td>\n",
       "      <td>0</td>\n",
       "      <td>1</td>\n",
       "      <td>0</td>\n",
       "    </tr>\n",
       "    <tr>\n",
       "      <th>3</th>\n",
       "      <td>Geno Smith, NYJ</td>\n",
       "      <td>@Atl</td>\n",
       "      <td>27.00</td>\n",
       "      <td>20</td>\n",
       "      <td>16</td>\n",
       "      <td>199</td>\n",
       "      <td>3</td>\n",
       "      <td>0</td>\n",
       "      <td>0</td>\n",
       "      <td>3</td>\n",
       "      <td>21</td>\n",
       "      <td>0</td>\n",
       "      <td>0</td>\n",
       "      <td>0</td>\n",
       "      <td>0</td>\n",
       "      <td>0</td>\n",
       "      <td>0</td>\n",
       "      <td>0</td>\n",
       "      <td>0</td>\n",
       "    </tr>\n",
       "    <tr>\n",
       "      <th>4</th>\n",
       "      <td>Jay Cutler, Chi</td>\n",
       "      <td>NO</td>\n",
       "      <td>27.00</td>\n",
       "      <td>33</td>\n",
       "      <td>24</td>\n",
       "      <td>358</td>\n",
       "      <td>2</td>\n",
       "      <td>0</td>\n",
       "      <td>0</td>\n",
       "      <td>4</td>\n",
       "      <td>27</td>\n",
       "      <td>0</td>\n",
       "      <td>0</td>\n",
       "      <td>0</td>\n",
       "      <td>0</td>\n",
       "      <td>0</td>\n",
       "      <td>0</td>\n",
       "      <td>1</td>\n",
       "      <td>0</td>\n",
       "    </tr>\n",
       "  </tbody>\n",
       "</table>\n",
       "</div>"
      ],
      "text/plain": [
       "                Player   Opp    Pts Att Cmp  Yds TD Int 2Pt Att  Yds TD 2Pt  \\\n",
       "0       Tony Romo, Dal   Den  50.00  36  25  506  5   1   1   1    7  0   0   \n",
       "1  Peyton Manning, Den  @Dal  44.00  42  33  414  4   1   0   4   -8  1   0   \n",
       "2  Russell Wilson, Sea  @Ind  27.00  31  15  210  2   1   0  13  102  0   0   \n",
       "3      Geno Smith, NYJ  @Atl  27.00  20  16  199  3   0   0   3   21  0   0   \n",
       "4      Jay Cutler, Chi    NO  27.00  33  24  358  2   0   0   4   27  0   0   \n",
       "\n",
       "  Rec Yds TD 2Pt FL TD  \n",
       "0   0   0  0   0  0  0  \n",
       "1   0   0  0   0  0  0  \n",
       "2   0   0  0   0  1  0  \n",
       "3   0   0  0   0  0  0  \n",
       "4   0   0  0   0  1  0  "
      ]
     },
     "execution_count": 5,
     "metadata": {},
     "output_type": "execute_result"
    }
   ],
   "source": [
    "url_string = generate_url_string('QB', 2013, 5)\n",
    "df = get_year_week_df(url_string)\n",
    "df.head()"
   ]
  },
  {
   "cell_type": "code",
   "execution_count": 6,
   "metadata": {},
   "outputs": [
    {
     "data": {
      "text/plain": [
       "'http://www.footballdb.com/fantasy-football/index.html?pos=QB&yr=2013&wk=5&rules=2'"
      ]
     },
     "execution_count": 6,
     "metadata": {},
     "output_type": "execute_result"
    }
   ],
   "source": [
    "url_string"
   ]
  },
  {
   "cell_type": "markdown",
   "metadata": {},
   "source": [
    "# Historical Fantasy Projections (2013 - 2017)"
   ]
  },
  {
   "cell_type": "code",
   "execution_count": 25,
   "metadata": {},
   "outputs": [
    {
     "name": "stdout",
     "output_type": "stream",
     "text": [
      "https://fantasydata.com/nfl-stats/fantasy-football-weekly-projections.aspx?fs=3&stype=0&sn=4&scope=0&w=3&ew=3&s=&t=0&p=6&st=FantasyPointsDraftKings&d=1&ls=FantasyPointsDraftKings&live=false&pid=false&minsnaps=4\n"
     ]
    }
   ],
   "source": [
    "start_week = 3\n",
    "end_week = 3\n",
    "position = 6 # (1=QB, 2=RB, 3=WR, 4=TE, 5=K, 6=DST)\n",
    "\n",
    "variable =  \"\"\"https://fantasydata.com/nfl-stats/fantasy-football-weekly-projections.aspx?\"\"\"\n",
    "variable += \"\"\"fs=3&stype=0&sn=4&scope=0&w=%s&ew=%s&s=&t=0&p=%s\"\"\" % (start_week, end_week, position)\n",
    "variable += \"\"\"&st=FantasyPointsDraftKings&d=1&ls=FantasyPointsDraftKings\"\"\"\n",
    "variable += \"\"\"&live=false&pid=false&minsnaps=4\"\"\"\n",
    "\n",
    "print variable"
   ]
  },
  {
   "cell_type": "code",
   "execution_count": null,
   "metadata": {
    "collapsed": true
   },
   "outputs": [],
   "source": [
    "# variable = \"\"\"My name is %s and it has been %s since I was born.\"\"\" % (name, name)\n",
    "# variable += \"\"\"My parents decided to call me %s because they thought %s was a nice name.\"\"\" % (name, name)\n",
    "# variable += \"\"\"%s is the same as %s.\"\"\" % (name, name)\n",
    "\n",
    "\n",
    "https://fantasydata.com/nfl-stats/fantasy-football-weekly-projections.aspx?\n",
    "    fs=3&stype=0&sn=4&scope=0&w=0&ew=16&s=&t=0&p=2\n",
    "    &st=FantasyPointsDraftKings&d=1&ls=&live=false&pid=false&minsnaps=4\n",
    "\n",
    "# QB 2013 week1\n",
    "https://fantasydata.com/nfl-stats/fantasy-football-weekly-projections.aspx?\n",
    "fs=3&stype=0&sn=4&scope=0&w=0&ew=0&s=&t=0&p=1&st=FantasyPointsDraftKings&d=1&ls=FantasyPointsDraftKings\n",
    "&live=false&pid=false&minsnaps=4\n",
    "\n",
    "# QB 2014 week4\n",
    "https://fantasydata.com/nfl-stats/fantasy-football-weekly-projections.aspx?\n",
    "fs=3&stype=0&sn=3&scope=1&w=3&ew=3&s=&t=0&p=1&st=FantasyPointsDraftKings&d=1&ls=FantasyPointsDraftKings\n",
    "&live=false&pid=false&minsnaps=4\n",
    "\n",
    "# QB 2017 week4\n",
    "https://fantasydata.com/nfl-stats/fantasy-football-weekly-projections.aspx?\n",
    "fs=3&stype=0&sn=0&scope=1&w=3&ew=3&s=&t=0&p=1&st=FantasyPointsDraftKings&d=1&ls=FantasyPointsDraftKings\n",
    "&live=false&pid=false&minsnaps=4\n",
    "\n",
    "# QB 2013 week2\n",
    "\"https://fantasydata.com/nfl-stats/fantasy-football-weekly-projections.aspx?\n",
    "fs=3&stype=0&sn=4&scope=0&w=1&ew=1&s=&t=0&p=1&st=FantasyPointsDraftKings&d=1&ls=FantasyPointsDraftKings\n",
    "&live=false&pid=false&minsnaps=4"
   ]
  },
  {
   "cell_type": "markdown",
   "metadata": {},
   "source": [
    "# Historical DraftKings Salaries"
   ]
  },
  {
   "cell_type": "code",
   "execution_count": null,
   "metadata": {
    "collapsed": true
   },
   "outputs": [],
   "source": [
    "# week 9, 2016, RB\n",
    "url_string = \"http://rotoguru1.com/cgi-bin/fyday.pl?week=9&year=2016&game=dk#RB\""
   ]
  },
  {
   "cell_type": "code",
   "execution_count": 1,
   "metadata": {},
   "outputs": [
    {
     "ename": "NameError",
     "evalue": "name 'requests' is not defined",
     "output_type": "error",
     "traceback": [
      "\u001b[0;31m---------------------------------------------------------------------------\u001b[0m",
      "\u001b[0;31mNameError\u001b[0m                                 Traceback (most recent call last)",
      "\u001b[0;32m<ipython-input-1-9f73d8aebf44>\u001b[0m in \u001b[0;36m<module>\u001b[0;34m()\u001b[0m\n\u001b[0;32m----> 1\u001b[0;31m \u001b[0mpage\u001b[0m \u001b[0;34m=\u001b[0m \u001b[0mrequests\u001b[0m\u001b[0;34m.\u001b[0m\u001b[0mget\u001b[0m\u001b[0;34m(\u001b[0m\u001b[0murl_string\u001b[0m\u001b[0;34m)\u001b[0m\u001b[0;34m\u001b[0m\u001b[0m\n\u001b[0m\u001b[1;32m      2\u001b[0m \u001b[0msoup\u001b[0m \u001b[0;34m=\u001b[0m \u001b[0mBeautifulSoup\u001b[0m\u001b[0;34m(\u001b[0m\u001b[0mpage\u001b[0m\u001b[0;34m.\u001b[0m\u001b[0mcontent\u001b[0m\u001b[0;34m,\u001b[0m \u001b[0;34m'html.parser'\u001b[0m\u001b[0;34m)\u001b[0m\u001b[0;34m\u001b[0m\u001b[0m\n\u001b[1;32m      3\u001b[0m \u001b[0mtable_headers\u001b[0m \u001b[0;34m=\u001b[0m \u001b[0msoup\u001b[0m\u001b[0;34m.\u001b[0m\u001b[0mfind\u001b[0m\u001b[0;34m(\u001b[0m\u001b[0;34m'tr'\u001b[0m\u001b[0;34m,\u001b[0m \u001b[0;34m{\u001b[0m\u001b[0;34m'class'\u001b[0m\u001b[0;34m:\u001b[0m \u001b[0;34m'header right'\u001b[0m\u001b[0;34m}\u001b[0m\u001b[0;34m)\u001b[0m\u001b[0;34m.\u001b[0m\u001b[0mget_text\u001b[0m\u001b[0;34m(\u001b[0m\u001b[0;34m)\u001b[0m\u001b[0;34m.\u001b[0m\u001b[0msplit\u001b[0m\u001b[0;34m(\u001b[0m\u001b[0;34m'\\n'\u001b[0m\u001b[0;34m)\u001b[0m\u001b[0;34m\u001b[0m\u001b[0m\n",
      "\u001b[0;31mNameError\u001b[0m: name 'requests' is not defined"
     ]
    }
   ],
   "source": [
    "page = requests.get(url_string)\n",
    "soup = BeautifulSoup(page.content, 'html.parser')\n",
    "table_headers = soup.find('tr', {'class': 'header right'}).get_text().split('\\n')"
   ]
  }
 ],
 "metadata": {
  "kernelspec": {
   "display_name": "Python 2",
   "language": "python",
   "name": "python2"
  },
  "language_info": {
   "codemirror_mode": {
    "name": "ipython",
    "version": 2
   },
   "file_extension": ".py",
   "mimetype": "text/x-python",
   "name": "python",
   "nbconvert_exporter": "python",
   "pygments_lexer": "ipython2",
   "version": "2.7.12"
  }
 },
 "nbformat": 4,
 "nbformat_minor": 2
}
