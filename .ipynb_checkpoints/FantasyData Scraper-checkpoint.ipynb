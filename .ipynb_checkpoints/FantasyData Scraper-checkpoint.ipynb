{
 "cells": [
  {
   "cell_type": "markdown",
   "metadata": {},
   "source": [
    "# Import Requirements"
   ]
  },
  {
   "cell_type": "code",
   "execution_count": 1,
   "metadata": {
    "collapsed": true
   },
   "outputs": [],
   "source": [
    "import pandas as pd\n",
    "from bs4 import BeautifulSoup\n",
    "import requests\n",
    "import matplotlib.pyplot as plt\n",
    "%matplotlib inline"
   ]
  },
  {
   "cell_type": "markdown",
   "metadata": {},
   "source": [
    "# Scrape Historical Projections\n",
    "### 2013 - 2017"
   ]
  },
  {
   "cell_type": "code",
   "execution_count": 24,
   "metadata": {},
   "outputs": [
    {
     "name": "stdout",
     "output_type": "stream",
     "text": [
      "https://fantasydata.com/nfl-stats/fantasy-football-weekly-projections.aspx?fs=3&stype=0&sn=1&scope=1&w=11&ew=11&s=&t=0&p=3&st=FantasyPointsDraftKings&d=1&ls=FantasyPointsDraftKings&live=false&pid=false&minsnaps=4\n"
     ]
    }
   ],
   "source": [
    "def get_projections_url(position, year, week):\n",
    "    \n",
    "    if position not in ['QB','RB','WR','TE','DST']:\n",
    "        return \"ERROR: position must be 'QB','RB','WR','TE', or'DST'\"\n",
    "    \n",
    "    # dictionaries to map strings to values\n",
    "    position_dict = {'QB':1,'RB':2,'WR':3,'TE':4,'DST':6}\n",
    "    year_dict = {2013:4, 2014:3, 2015:2, 2016:1, 2017:0}\n",
    "    position = position_dict[position]\n",
    "    year = year_dict[year]\n",
    "    week = week - 1\n",
    "\n",
    "    variable =  \"https://fantasydata.com/nfl-stats/fantasy-football-weekly-projections.aspx?\"\n",
    "    variable += \"fs=3&stype=0&sn=%s&scope=1&w=%s&ew=%s&s=&t=0&p=%s&st=\" % (year, week, week, position)\n",
    "    variable += \"FantasyPointsDraftKings&d=1&ls=FantasyPointsDraftKings&live=false&pid=false&minsnaps=4\"\n",
    "    return variable\n",
    "\n",
    "print get_projections_url('WR',2016,12)"
   ]
  },
  {
   "cell_type": "markdown",
   "metadata": {},
   "source": [
    "# Scrape Historical Stats\n",
    "### 2006 - 2017"
   ]
  },
  {
   "cell_type": "code",
   "execution_count": 25,
   "metadata": {},
   "outputs": [
    {
     "name": "stdout",
     "output_type": "stream",
     "text": [
      "https://fantasydata.com/nfl-stats/nfl-fantasy-football-stats.aspx?fs=3&stype=0&sn=1&scope=1&w=11&ew=11&s=&t=0&p=4&st=FantasyPointsDraftKings&d=1&ls=FantasyPointsDraftKings&live=false&pid=true&minsnaps=4\n"
     ]
    }
   ],
   "source": [
    "def get_stats_url(position, year, week):\n",
    "    \n",
    "    if position not in ['QB','RB','WR','TE','DST']:\n",
    "        return \"ERROR: position must be 'QB','RB','WR','TE', or'DST'\"\n",
    "    \n",
    "    # dictionaries to map strings to values\n",
    "    position_dict = {'QB':2,'RB':3,'WR':4,'TE':5,'DST':6}\n",
    "    year_dict = {2006:11, 2007:10, 2008:9, 2009:8, 2010:7, 2011:6,\n",
    "                 2012:5, 2013:4, 2014:3, 2015:2, 2016:1, 2017:0}\n",
    "    position = position_dict[position]\n",
    "    year = year_dict[year]\n",
    "    week = week - 1\n",
    "\n",
    "    variable =  \"https://fantasydata.com/nfl-stats/nfl-fantasy-football-stats.aspx?\"\n",
    "    variable += \"fs=3&stype=0&sn=%s&scope=1&w=%s&ew=%s&s=&t=0&p=%s&st=\" % (year, week, week, position)\n",
    "    variable += \"FantasyPointsDraftKings&d=1&ls=FantasyPointsDraftKings&live=false&pid=true&minsnaps=4\"\n",
    "    return variable\n",
    "\n",
    "print get_stats_url('WR',2016,12)"
   ]
  },
  {
   "cell_type": "markdown",
   "metadata": {},
   "source": [
    "# Scrape Historical Salaries\n",
    "\n",
    "### 2015 - 2017"
   ]
  },
  {
   "cell_type": "code",
   "execution_count": 26,
   "metadata": {},
   "outputs": [
    {
     "name": "stdout",
     "output_type": "stream",
     "text": [
      "https://fantasydata.com/nfl-stats/daily-fantasy-football-salary-and-projection-tool.aspx?fs=1&stype=0&sn=1&scope=1&w=11&ew=11&s=&t=0&p=4&st=FantasyPointsDraftKings&d=1&ls=FantasyPointsDraftKings&live=false&pid=true&minsnaps=4\n"
     ]
    }
   ],
   "source": [
    "def get_salaries_url(position, year, week):\n",
    "    \n",
    "    if position not in ['QB','RB','WR','TE','DST']:\n",
    "        return \"ERROR: position must be 'QB','RB','WR','TE', or'DST'\"\n",
    "    \n",
    "    # dictionaries to map strings to values\n",
    "    position_dict = {'QB':2,'RB':3,'WR':4,'TE':5,'DST':6}\n",
    "    year_dict = {2015:2, 2016:1, 2017:0}\n",
    "    position = position_dict[position]\n",
    "    year = year_dict[year]\n",
    "    week = week - 1\n",
    "\n",
    "    variable =  \"https://fantasydata.com/nfl-stats/daily-fantasy-football-salary-and-projection-tool.aspx?\"\n",
    "    variable += \"fs=1&stype=0&sn=%s&scope=1&w=%s&ew=%s&s=&t=0&p=%s&st=\" % (year, week, week, position)\n",
    "    variable += \"FantasyPointsDraftKings&d=1&ls=FantasyPointsDraftKings&live=false&pid=true&minsnaps=4\"\n",
    "    return variable\n",
    "\n",
    "print get_salaries_url('WR',2016,12)"
   ]
  },
  {
   "cell_type": "code",
   "execution_count": null,
   "metadata": {
    "collapsed": true
   },
   "outputs": [],
   "source": [
    "# Scrapers"
   ]
  }
 ],
 "metadata": {
  "kernelspec": {
   "display_name": "Python 2",
   "language": "python",
   "name": "python2"
  },
  "language_info": {
   "codemirror_mode": {
    "name": "ipython",
    "version": 2
   },
   "file_extension": ".py",
   "mimetype": "text/x-python",
   "name": "python",
   "nbconvert_exporter": "python",
   "pygments_lexer": "ipython2",
   "version": "2.7.12"
  }
 },
 "nbformat": 4,
 "nbformat_minor": 2
}
