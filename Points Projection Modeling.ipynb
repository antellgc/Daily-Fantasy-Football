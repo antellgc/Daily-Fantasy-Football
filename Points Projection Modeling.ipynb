{
 "cells": [
  {
   "cell_type": "markdown",
   "metadata": {},
   "source": [
    "# Import requirements"
   ]
  },
  {
   "cell_type": "code",
   "execution_count": 1,
   "metadata": {},
   "outputs": [
    {
     "data": {
      "text/html": [
       "<style>\n",
       "  table {margin-left: 0 !important;}\n",
       "</style>"
      ],
      "text/plain": [
       "<IPython.core.display.HTML object>"
      ]
     },
     "metadata": {},
     "output_type": "display_data"
    }
   ],
   "source": [
    "%%html\n",
    "<style>\n",
    "  table {margin-left: 0 !important;}\n",
    "</style>"
   ]
  },
  {
   "cell_type": "markdown",
   "metadata": {},
   "source": [
    "# DraftKings Point Values\n",
    "\n",
    "| Offensive Event | Point Value | Defensive Event | Point Value\n",
    "| :---------- |:---- | :---------- |:----\n",
    "| Passing TD | +4 Pts | Sack | +1 Pt\n",
    "| Rushing TD | +6 Pts | Interception | +2 Pts\n",
    "| Receiving TD | +6 Pts | Fumble Recovery | +2 Pts\n",
    "| Punt/Kickoff/FG Return for TD | +6 Pts | Punt/Kickoff/FG Return for TD | +6 Pts\n",
    "| Offensive Fumble Recovery TD | +6 Pts | Interception Return TD | +6 Pts\n",
    "| 2 Pt Conversion (Pass, Run, or Catch) | +2 Pts | Fumble Recovery TD | +6 Pts\n",
    "| Passing Yards | +0.04 Pts/Yard | Blocked Punt or FG Return TD | +6 Pts\n",
    "| Rushing Yards | +0.1 Pts/Yard | Safety | +2 Pts\n",
    "| Receiving Yards | +0.1 Pts/Yard | Blocked Kick | +2 Pts\n",
    "| 300+ Yard Passing Game | +3 Pts | 2 Pt Conversion/Extra Point Return | +2 Pts\n",
    "| 100+ Yard Rushing Game | +3 Pts | 0 Points Allowed | +10 Pts\n",
    "| 100+ Yard Receiving Game | +3 Pts | 1 – 6 Points Allowed | +7 Pts\n",
    "| Reception | +1 Pts | 7 – 13 Points Allowed | +4 Pts\n",
    "| Interception | -1 Pts | 14 – 20 Points Allowed | +1 Pt\n",
    "| Fumble Lost | -1 Pts | 21 – 27 Points Allowed | +0 Pts"
   ]
  }
 ],
 "metadata": {
  "kernelspec": {
   "display_name": "Python 2",
   "language": "python",
   "name": "python2"
  },
  "language_info": {
   "codemirror_mode": {
    "name": "ipython",
    "version": 2
   },
   "file_extension": ".py",
   "mimetype": "text/x-python",
   "name": "python",
   "nbconvert_exporter": "python",
   "pygments_lexer": "ipython2",
   "version": "2.7.12"
  }
 },
 "nbformat": 4,
 "nbformat_minor": 2
}
